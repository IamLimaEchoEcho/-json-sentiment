{
 "cells": [
  {
   "cell_type": "markdown",
   "metadata": {},
   "source": [
    "# Web Mining and Applied NLP (44-620)\n",
    "\n",
    "## Requests, JSON, and NLP\n",
    "\n",
    "### Student Name: Lee Jones\n",
    "https://github.com/IamLimaEchoEcho?tab=repositories\n",
    "\n",
    "Perform the tasks described in the Markdown cells below.  When you have completed the assignment make sure your code cells have all been run (and have output beneath them) and ensure you have committed and pushed ALL of your changes to your assignment repository.\n",
    "\n",
    "Make sure you have [installed spaCy and its pipeline](https://spacy.io/usage#quickstart) and [spaCyTextBlob](https://spacy.io/universe/project/spacy-textblob)\n",
    "\n",
    "Every question that requires you to write code will have a code cell underneath it; you may either write your entire solution in that cell or write it in a python file (`.py`), then import and run the appropriate code to answer the question.\n",
    "\n",
    "This assignment requires that you write additional files (either JSON or pickle files); make sure to submit those files in your repository as well."
   ]
  },
  {
   "cell_type": "markdown",
   "metadata": {},
   "source": [
    "1. The following code accesses the [lyrics.ovh](https://lyricsovh.docs.apiary.io/#reference/0/lyrics-of-a-song/search) public api, searches for the lyrics of a song, and stores it in a dictionary object.  Write the resulting json to a file (either a JSON file or a pickle file; you choose). You will read in the contents of this file for future questions so we do not need to frequently access the API."
   ]
  },
  {
   "cell_type": "markdown",
   "metadata": {},
   "source": [
    "I tried to use lyrics.ovh.  I created a profile and tried to use the API at lyricsgenius.  Every place I tried online would not work because of SSL Certificate errors.  I suspect this is due to me working from my work issued laptop or possibly blocked by my corporate internet security.  I had to go the Kaggle route.  "
   ]
  },
  {
   "cell_type": "code",
   "execution_count": 1,
   "metadata": {},
   "outputs": [],
   "source": [
    "import requests\n",
    "import json"
   ]
  },
  {
   "cell_type": "code",
   "execution_count": 2,
   "metadata": {},
   "outputs": [],
   "source": [
    "import spacy\n",
    "from spacytextblob.spacytextblob import SpacyTextBlob"
   ]
  },
  {
   "cell_type": "code",
   "execution_count": 32,
   "metadata": {},
   "outputs": [
    {
     "data": {
      "text/plain": [
       "<spacytextblob.spacytextblob.SpacyTextBlob at 0x140865fbd60>"
      ]
     },
     "execution_count": 32,
     "metadata": {},
     "output_type": "execute_result"
    }
   ],
   "source": [
    "nlp = spacy.load(\"en_core_web_sm\")\n",
    "nlp.add_pipe('spacytextblob')"
   ]
  },
  {
   "cell_type": "code",
   "execution_count": 4,
   "metadata": {},
   "outputs": [],
   "source": [
    "#Since I went the Kaggle csv route, I need to convert my file to JSON.  In this module, I convert the CSV to JSON.  \n",
    "import csv \n",
    "\n",
    "def csv_to_json(csvFilePath, jsonFilePath):\n",
    "    jsonArray = []\n",
    "      \n",
    "    #read csv file\n",
    "    with open(csvFilePath, encoding='utf-8') as csvf: \n",
    "        #load csv file data using csv library's dictionary reader\n",
    "        csvReader = csv.DictReader(csvf) \n",
    "\n",
    "        #convert each csv row into python dict\n",
    "        for row in csvReader: \n",
    "            #add this python dict to json array\n",
    "            jsonArray.append(row)\n",
    "  \n",
    "    #convert python jsonArray to JSON String and write to file\n",
    "    with open(jsonFilePath, 'w', encoding='utf-8') as jsonf: \n",
    "        jsonString = json.dumps(jsonArray, indent=4)\n",
    "        jsonf.write(jsonString)\n",
    "          \n",
    "csvFilePath = r'PostMalone.csv'\n",
    "jsonFilePath = r'PostMalone.json'\n",
    "csv_to_json(csvFilePath, jsonFilePath)"
   ]
  },
  {
   "cell_type": "markdown",
   "metadata": {},
   "source": [
    "2. Read in the contents of your file.  Print the lyrics of the song (not the entire dictionary!) and use spaCyTextBlob to perform sentiment analysis on the lyrics.  Print the polarity score of the sentiment analysis.  Given that the range of the polarity score is `[-1.0,1.0]` which corresponds to how positive or negative the text in question is, do you think the lyrics have a more positive or negative connotaion?  Answer this question in a comment in your code cell."
   ]
  },
  {
   "cell_type": "code",
   "execution_count": 11,
   "metadata": {},
   "outputs": [
    {
     "name": "stdout",
     "output_type": "stream",
     "text": [
      "PostMalone.json\n"
     ]
    }
   ],
   "source": [
    "print(jsonFilePath)\n",
    "#\"\": \"6\",\n",
    "#\"Artist\": \"Post Malone\",\n",
    "#\"Title\": \"Better Now\",\n",
    "#\"Album\": \"beerbongs & bentleys\",\n",
    "#\"Year\": \"2018\",\n",
    "#\"Date\": \"2018-04-27\",\n",
    "#\"Lyric\":"
   ]
  },
  {
   "cell_type": "code",
   "execution_count": 38,
   "metadata": {},
   "outputs": [
    {
     "name": "stdout",
     "output_type": "stream",
     "text": [
      "Better Now\n",
      "0.12966269841269837\n"
     ]
    }
   ],
   "source": [
    "with open (jsonFilePath) as f:\n",
    "   data = json.load(f)\n",
    "\n",
    "print( data[6][\"Title\"] )\n",
    "\n",
    "text = data[6][\"Lyric\"]\n",
    "doc = nlp(text)\n",
    "\n",
    "print(doc._.blob.polarity)\n"
   ]
  },
  {
   "cell_type": "code",
   "execution_count": null,
   "metadata": {},
   "outputs": [],
   "source": [
    "# With a polarity score of .129, the tone is overall positive, but it is not very high.  It's closer to neutral than positive. "
   ]
  },
  {
   "cell_type": "markdown",
   "metadata": {},
   "source": [
    "3. Write a function that takes an artist, song, and filename, accesses the lyrics.ovh api to get the song lyrics, and writes the results to the specified filename.  Test this function by getting the lyrics to any four songs of your choice and storing them in different files."
   ]
  },
  {
   "cell_type": "code",
   "execution_count": 84,
   "metadata": {},
   "outputs": [],
   "source": [
    "#If I understand this task correctly, you want the user to input artist, song, and filename and then output the song lyrics to a file.  I assume that's a JSON output file. \n",
    "\n",
    "def lyrics_to_json(artist, song, filename):\n",
    "    i = 0 \n",
    "    ifound = False\n",
    "    with open(jsonFilePath, 'r') as file:\n",
    "            data = json.load(file)\n",
    "            while i < len(data):\n",
    "                iartist = data[i][\"Artist\"]\n",
    "                isong = data[i][\"Title\"]\n",
    "                ilyric = data[i][\"Lyric\"]\n",
    "\n",
    "                if iartist == artist and isong == song:\n",
    "                    idict = {\n",
    "                        \"Artist\": iartist,\n",
    "                        \"Title\": isong,\n",
    "                        \"Lyric\": ilyric\n",
    "                    }\n",
    "                    ifound = True\n",
    "                    print(iartist, isong)\n",
    "                i+= 1 \n",
    "\n",
    "    if ifound == True:\n",
    "        # Serializing json\n",
    "        json_object = json.dumps(idict, indent=4)\n",
    "    \n",
    "        # Writing to sample.json\n",
    "        with open(filename+\".json\", \"w\") as outfile:\n",
    "            json.dump(idict, outfile)\n",
    "            \n"
   ]
  },
  {
   "cell_type": "code",
   "execution_count": 88,
   "metadata": {},
   "outputs": [
    {
     "name": "stdout",
     "output_type": "stream",
     "text": [
      "Post Malone Paranoid\n"
     ]
    }
   ],
   "source": [
    "artist = input(\"Enter Artist: \")\n",
    "song = input(\"Enter Song: \")\n",
    "filename = input(\"Enter Filename: \")\n",
    "\n",
    "lyrics_to_json(artist,song,filename)\n",
    "\n"
   ]
  },
  {
   "cell_type": "markdown",
   "metadata": {},
   "source": [
    "4. Write a function that takes the name of a file that contains song lyrics, loads the file, performs sentiment analysis, and returns the polarity score.  Use this function to print the polarity scores (with the name of the song) of the three files you created in question 3.  Does the reported polarity match your understanding of the song's lyrics? Why or why not do you think that might be?  Answer the questions in either a comment in the code cell or a markdown cell under the code cell."
   ]
  },
  {
   "cell_type": "code",
   "execution_count": 112,
   "metadata": {},
   "outputs": [],
   "source": [
    "#my filenames: Better_Now.json, Blame_It_On_Me.json, Jonestown_(Interlude).json, Paranoid.json\n",
    "def sentiment_json(file4):\n",
    "\n",
    "    with open(file4) as f:\n",
    "        data4 = json.load(f)\n",
    "        artist = data4['Artist'] \n",
    "        song =  data4['Title'] \n",
    "        lyric = data4['Lyric'] \n",
    "\n",
    "    doc = nlp(lyric)\n",
    "    polarity = doc._.blob.polarity\n",
    "    return artist, song, polarity"
   ]
  },
  {
   "cell_type": "code",
   "execution_count": 114,
   "metadata": {},
   "outputs": [
    {
     "name": "stdout",
     "output_type": "stream",
     "text": [
      "Post Malone : Better Now : 0.12966269841269837\n",
      "Post Malone : Blame It On Me : 0.02688492063492063\n",
      "Post Malone : Jonestown (Interlude) : 0.0\n",
      "Post Malone : Paranoid : 0.11839285714285715\n"
     ]
    }
   ],
   "source": [
    "#Song 1\n",
    "file4 = 'Better_Now.json'\n",
    "artist, song, polarity = sentiment_json(file4)\n",
    "print(artist,':', song,':', polarity)\n",
    "\n",
    "#Song 2\n",
    "file4 = 'Blame_It_On_Me.json'\n",
    "artist, song, polarity = sentiment_json(file4)\n",
    "print(artist,':', song,':', polarity)\n",
    "\n",
    "#Song 3\n",
    "file4 = 'Jonestown_(Interlude).json'\n",
    "artist, song, polarity = sentiment_json(file4)\n",
    "print(artist,':', song,':', polarity)\n",
    "\n",
    "#Song 4\n",
    "file4 = 'Paranoid.json'\n",
    "artist, song, polarity = sentiment_json(file4)\n",
    "print(artist,':', song,':', polarity)\n"
   ]
  },
  {
   "cell_type": "markdown",
   "metadata": {},
   "source": [
    "##Does the reported polarity match your understanding of the song's lyrics? \n",
    "   # Yes - the polarity matches what I would expect.  \n",
    "##Why or why not do you think that might be?  \n",
    "   # The songs are not overly positive or negative... but they do have a slightly more positive sentiment than negative. "
   ]
  },
  {
   "cell_type": "code",
   "execution_count": 117,
   "metadata": {},
   "outputs": [
    {
     "data": {
      "text/plain": [
       "0"
      ]
     },
     "execution_count": 117,
     "metadata": {},
     "output_type": "execute_result"
    }
   ],
   "source": [
    "import os\n",
    "os.system('jupyter nbconvert --to html requests-json-nlp.ipynb')"
   ]
  },
  {
   "cell_type": "code",
   "execution_count": null,
   "metadata": {},
   "outputs": [],
   "source": []
  }
 ],
 "metadata": {
  "kernelspec": {
   "display_name": "Python 3.9.12 ('base')",
   "language": "python",
   "name": "python3"
  },
  "language_info": {
   "codemirror_mode": {
    "name": "ipython",
    "version": 3
   },
   "file_extension": ".py",
   "mimetype": "text/x-python",
   "name": "python",
   "nbconvert_exporter": "python",
   "pygments_lexer": "ipython3",
   "version": "3.9.12"
  },
  "vscode": {
   "interpreter": {
    "hash": "fd998f0dae5f08cebb7df1c28aeb21fcbbf832e26386bcca61b87155b79048bf"
   }
  }
 },
 "nbformat": 4,
 "nbformat_minor": 4
}
